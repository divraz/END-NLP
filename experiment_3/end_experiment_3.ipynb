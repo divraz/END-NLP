{
  "nbformat": 4,
  "nbformat_minor": 0,
  "metadata": {
    "colab": {
      "name": "end_experiment_3.ipynb",
      "provenance": [],
      "collapsed_sections": [],
      "authorship_tag": "ABX9TyPblvy1jOFexKgby5cEnf09",
      "include_colab_link": true
    },
    "kernelspec": {
      "name": "python3",
      "display_name": "Python 3"
    }
  },
  "cells": [
    {
      "cell_type": "markdown",
      "metadata": {
        "id": "view-in-github",
        "colab_type": "text"
      },
      "source": [
        "<a href=\"https://colab.research.google.com/github/divyanshuraj6815/END-NLP/blob/main/experiment_3/end_experiment_3.ipynb\" target=\"_parent\"><img src=\"https://colab.research.google.com/assets/colab-badge.svg\" alt=\"Open In Colab\"/></a>"
      ]
    },
    {
      "cell_type": "markdown",
      "metadata": {
        "id": "JbkZeSMtJ4sT"
      },
      "source": [
        "Write a function using only list filter lambda that can tell whether a number is a Fibonacci number or not. You can use a pre-calculated list/dict to store fab numbers till 10000"
      ]
    },
    {
      "cell_type": "code",
      "metadata": {
        "id": "kR34MxF4CuN-"
      },
      "source": [
        "fibonacci = [0, 1]\n",
        "for i in range (2, 10000):\n",
        "  fibonacci.append (fibonacci[i - 1] + fibonacci[i - 2])"
      ],
      "execution_count": 1,
      "outputs": []
    },
    {
      "cell_type": "code",
      "metadata": {
        "id": "-xEQCrFHIKjr"
      },
      "source": [
        "check_fib = lambda x : True if x in fibonacci else False"
      ],
      "execution_count": 4,
      "outputs": []
    },
    {
      "cell_type": "code",
      "metadata": {
        "id": "wBnMkAIaJkDE",
        "outputId": "dbca6f41-d2b2-4142-dde6-147de1b3186f",
        "colab": {
          "base_uri": "https://localhost:8080/"
        }
      },
      "source": [
        "check_fib (34)"
      ],
      "execution_count": 7,
      "outputs": [
        {
          "output_type": "execute_result",
          "data": {
            "text/plain": [
              "True"
            ]
          },
          "metadata": {
            "tags": []
          },
          "execution_count": 7
        }
      ]
    },
    {
      "cell_type": "markdown",
      "metadata": {
        "id": "wSm8zQVdJ-hR"
      },
      "source": [
        " Using list comprehension (and zip/lambda/etc if required) write five different expressions that:\n",
        "\n",
        "    add 2 iterables a and b such that a is even and b is odd\n",
        "    strips every vowel from a string provided (tsai>>t s)\n",
        "    acts like a ReLU function for a 1D array\n",
        "    acts like a sigmoid function for a 1D array\n",
        "    takes a small character string and shifts all characters by 5 (handle boundary conditions) tsai>>yxfn\n",
        "\n"
      ]
    },
    {
      "cell_type": "code",
      "metadata": {
        "id": "jS2BPm3tJnPs"
      },
      "source": [
        "import numpy as np\n",
        "add_it = lambda a, b: ??\n",
        "strip_vowel = lambda string: ''.join ([char for char in string if char not in 'aeiou'])\n",
        "relu = lambda arr: [0 if num < 0 else num for num in arr]\n",
        "sigmoid = lambda arr: [1/(1 + np.exp(-x)) for x in arr]\n",
        "shift = lambda string: \"\".join ([chr(ord(char) + 5) if (ord(char) < ord('z') - 5 and ord(char) >= ord('a')) else 'z' for char in string])"
      ],
      "execution_count": 17,
      "outputs": []
    },
    {
      "cell_type": "code",
      "metadata": {
        "id": "l-2uGYU-LSeJ",
        "outputId": "19429f72-da0c-4fe3-d708-cff2816eb2ef",
        "colab": {
          "base_uri": "https://localhost:8080/"
        }
      },
      "source": [
        "print (strip_vowel ('tsai'))\n",
        "print (relu ([0, 9, 4, -2, -1, 4, -2]))\n",
        "print (sigmoid ([0, 9, 4, -2, -1, 4, -2]))\n",
        "print (shift ('tyai'))"
      ],
      "execution_count": 19,
      "outputs": [
        {
          "output_type": "stream",
          "text": [
            "ts\n",
            "[0, 9, 4, 0, 0, 4, 0]\n",
            "[0.5, 0.9998766054240137, 0.9820137900379085, 0.11920292202211755, 0.2689414213699951, 0.9820137900379085, 0.11920292202211755]\n",
            "yzfn\n"
          ],
          "name": "stdout"
        }
      ]
    },
    {
      "cell_type": "markdown",
      "metadata": {
        "id": "-Im3diPqPOnM"
      },
      "source": [
        "A list comprehension expression that takes a ~200 word paragraph (write your own paragraph to check), and checks whether it has any of the swear words mentioned in https://github.com/RobertJGabriel/Google-profanity-words/blob/master/list.txt\n"
      ]
    },
    {
      "cell_type": "code",
      "metadata": {
        "id": "0PWUbN8nLczV",
        "outputId": "6d1513a3-565a-4109-9788-b28a1cd0c9cd",
        "colab": {
          "base_uri": "https://localhost:8080/"
        }
      },
      "source": [
        "import requests\n",
        "swear_words = requests.get ('https://raw.githubusercontent.com/RobertJGabriel/Google-profanity-words/master/list.txt').content.decode ().split ('\\n')\n",
        "print (swear_words[:10])"
      ],
      "execution_count": 29,
      "outputs": [
        {
          "output_type": "stream",
          "text": [
            "['4r5e', '5h1t', '5hit', 'a55', 'anal', 'anus', 'ar5e', 'arrse', 'arse', 'ass']\n"
          ],
          "name": "stdout"
        }
      ]
    },
    {
      "cell_type": "code",
      "metadata": {
        "id": "kuH5YyCuZVNW",
        "outputId": "5da068c5-4c67-422b-c7c8-56efe1f9d2fb",
        "colab": {
          "base_uri": "https://localhost:8080/"
        }
      },
      "source": [
        "two_hundred_word_para = '''\n",
        "26 English Swear Words That You Thought Were Harmless\n",
        "\n",
        " \n",
        "American Swear Words (US)\n",
        "\n",
        "The following are commonly used curse words in American English that are understood and used globally. It’s likely where you should start, to get the most bang for your limited time.\n",
        "\n",
        " \n",
        "Fuck\n",
        "\n",
        "The word f-u-c-k is one of the most widely recognized swear words in the English language. The literal f-word is a shortened version of: ‘Fornication Under the Consent of the King.’ Like most swear words, it did originate from a sexual reference, which is still how it’s used today.\n",
        "\n",
        " \n",
        "2. F*ck you\n",
        "\n",
        "Adding the word ‘you’ means you’re directing the offense onto someone else. It’s often used as a joke or when you’re angry at someone else.\n",
        "\n",
        " \n",
        "3. Shit\n",
        "\n",
        "Another meaning for shit is poo (#2), but it’s often used internally when something unexpected comes up in your life. An example is if you forgot that you have a project that’s due this week, you’ll say ‘Shit! I totally forgot about that.’\n",
        "\n",
        " \n",
        "4. Piss off\n",
        "\n",
        "If you want someone to step away from your personal space, you can simply tell them to piss off.\n",
        "\n",
        " \n",
        "5. Dick head\n",
        "\n",
        "You can visually imagine this swear word without too much effort I’m sure. It’s a commonly used name-call that is used to describe someone who’s being unfair or unjust, but it can also be with friends as a joke.\n",
        "\n",
        " \n",
        "6. Asshole\n",
        "\n",
        "This is one of those curse words that literally describes a part of our body (in the buttocks), but is also used as a swear word.\n",
        "\n",
        " \n",
        "7. Son of a bitch\n",
        "\n",
        "A versatile word that can be used internally like the word ‘damn’ or ‘shit’ but can also be used to describe someone who tossed one over you.\n",
        "\n",
        " \n",
        "8. Bastard\n",
        "\n",
        "The literal translation for a bastard is an illegitimate child or mongrel. It’s used as a noun to describe someone who gave you an unpleasant experience. For example, if someone runs into you on the subway and you end up falling, calling them a bastard may be appropriate.\n",
        "9. Bitch\n",
        "\n",
        "A common word that’s not only used globally but from both males and females. According to this study, the word ‘bitch’ was used in 4.5 million interactions on Facebook, making it the top 5 most common swear word in the English language online.\n",
        "\n",
        " \n",
        "10. Damn\n",
        "\n",
        "This is not the harshest swear word used in America and one that’s said to yourself, not to harm someone else.\n",
        "\n",
        "According to this survey, it’s most commonly used in the lower east side of the United States.\n",
        "\n",
        " \n",
        "11. C*nt\n",
        "\n",
        "While this word is used in Britain and elsewhere, it’s much harsher in the United States. Be careful using this, especially around women, as you may be about to enter a physical interaction quickly after.\n",
        "'''\n",
        "two_hundred_word_para = two_hundred_word_para.replace ('\\n', '').lower ().split (' ')\n",
        "print (len (two_hundred_word_para))"
      ],
      "execution_count": 41,
      "outputs": [
        {
          "output_type": "stream",
          "text": [
            "449\n"
          ],
          "name": "stdout"
        }
      ]
    },
    {
      "cell_type": "code",
      "metadata": {
        "id": "zcI95Q3taoHL",
        "outputId": "ca035550-3dfb-4318-8961-d96b714e6178",
        "colab": {
          "base_uri": "https://localhost:8080/"
        }
      },
      "source": [
        "index = []\n",
        "[index.append (word) for word in two_hundred_word_para if word in swear_words]\n",
        "print (index)"
      ],
      "execution_count": 42,
      "outputs": [
        {
          "output_type": "stream",
          "text": [
            "['shit', 'piss', 'piss', 'dick', 'bastard', 'bastard']\n"
          ],
          "name": "stdout"
        }
      ]
    },
    {
      "cell_type": "markdown",
      "metadata": {
        "id": "Vw4DVAeQcXBI"
      },
      "source": [
        " Using reduce functions:\n",
        "\n",
        "    add only even numbers in a list\n",
        "    find the biggest character in a string (printable ascii characters)\n",
        "    adds every 3rd number in a list\n",
        "\n"
      ]
    },
    {
      "cell_type": "code",
      "metadata": {
        "id": "-Hg5TPuEa3t5",
        "outputId": "8569e747-658c-49d1-ce8e-fae551becd38",
        "colab": {
          "base_uri": "https://localhost:8080/"
        }
      },
      "source": [
        "from functools import reduce\n",
        "print (reduce (lambda x, y: x + y if (x % 2 == 0 and y % 2 == 0) else x if x % 2 == 0 else y if y % 2 == 0 else 0, [1, 2, 3, 4, 5, 6]))\n",
        "print (reduce (lambda a, b: a if a > b else b, 'askjdjfg'))\n",
        "print (reduce (lambda x, y: x + y[1] if (y[0] + 1) % 3 == 0 else 0 if type (x) != type (1) else x, enumerate ([1, 2, 3, 4, 5, 6])))"
      ],
      "execution_count": 80,
      "outputs": [
        {
          "output_type": "stream",
          "text": [
            "12\n",
            "s\n",
            "9\n"
          ],
          "name": "stdout"
        }
      ]
    },
    {
      "cell_type": "markdown",
      "metadata": {
        "id": "UeBitqhWseze"
      },
      "source": [
        "Using randint, random.choice and list comprehensions, write an expression that generates 15 random KADDAADDDD number plates, where KA is fixed, D stands for a digit, and A stands for Capital alphabets. 10<<DD<<99 & 1000<<DDDD<<9999"
      ]
    },
    {
      "cell_type": "code",
      "metadata": {
        "id": "c0SA158-pBZp",
        "outputId": "97e1e3a6-7aea-4e18-a3be-c6ad6fee3c84",
        "colab": {
          "base_uri": "https://localhost:8080/"
        }
      },
      "source": [
        "from random import randint, choice\n",
        "alphabets = 'ABCDEFGHIJKLMNOPQRSTUVWXYZ'\n",
        "[f\"KA{randint (10,99)}{choice (alphabets)}{choice (alphabets)}{randint (1000, 9999)}\" for i in range (15)]"
      ],
      "execution_count": 83,
      "outputs": [
        {
          "output_type": "execute_result",
          "data": {
            "text/plain": [
              "['KA66OE7218',\n",
              " 'KA77LN3488',\n",
              " 'KA34LK6551',\n",
              " 'KA16VH5001',\n",
              " 'KA39YX3283',\n",
              " 'KA44TV7160',\n",
              " 'KA76BP6368',\n",
              " 'KA22WX4294',\n",
              " 'KA80WP6651',\n",
              " 'KA66AP2648',\n",
              " 'KA70MA6518',\n",
              " 'KA39LA6951',\n",
              " 'KA59QY2526',\n",
              " 'KA41DM3318',\n",
              " 'KA40BS3817']"
            ]
          },
          "metadata": {
            "tags": []
          },
          "execution_count": 83
        }
      ]
    },
    {
      "cell_type": "code",
      "metadata": {
        "id": "_F2hb1YblJ8e",
        "outputId": "9dc93797-6523-47db-fd57-9b406ad1535b",
        "colab": {
          "base_uri": "https://localhost:8080/"
        }
      },
      "source": [
        "states = ['KA', 'DL']\n",
        "start = 1234\n",
        "end = 5675\n",
        "[f\"{choice (states)}{randint (10,99)}{choice (alphabets)}{choice (alphabets)}{randint (start, end)}\" for i in range (15)]"
      ],
      "execution_count": 85,
      "outputs": [
        {
          "output_type": "execute_result",
          "data": {
            "text/plain": [
              "['DL29TO2395',\n",
              " 'KA32JT2141',\n",
              " 'KA99ZE2082',\n",
              " 'KA39VK4047',\n",
              " 'KA39OF4676',\n",
              " 'DL50OO1309',\n",
              " 'DL60LN5668',\n",
              " 'KA11WL4972',\n",
              " 'DL72JG4056',\n",
              " 'KA37JV1802',\n",
              " 'KA76LC2449',\n",
              " 'KA66LC4512',\n",
              " 'DL57WF3203',\n",
              " 'DL25KR2809',\n",
              " 'DL44AW5325']"
            ]
          },
          "metadata": {
            "tags": []
          },
          "execution_count": 85
        }
      ]
    }
  ]
}